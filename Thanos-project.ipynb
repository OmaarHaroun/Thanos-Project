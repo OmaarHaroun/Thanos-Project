{
 "cells": [
  {
   "cell_type": "code",
   "execution_count": 40,
   "metadata": {},
   "outputs": [],
   "source": [
    "import os"
   ]
  },
  {
   "cell_type": "code",
   "execution_count": 41,
   "metadata": {},
   "outputs": [],
   "source": [
    "os.chdir(r\"E:\\Data Science\\Sessions Coding\\New folder\\universe\\universe\")"
   ]
  },
  {
   "cell_type": "code",
   "execution_count": 44,
   "metadata": {},
   "outputs": [
    {
     "name": "stdout",
     "output_type": "stream",
     "text": [
      "['cover006.png', 'cover009.png', 'cover011.png', 'cover015.png', 'cover016.png', 'cover025.png', 'cover028.png', 'cover030.png', 'cover031.png', 'cover046.png', 'cover050.png', 'cover555.png']\n"
     ]
    }
   ],
   "source": [
    "neededlist = os.listdir('.')\n",
    "half=int(len(neededlist)/2)\n",
    "print(neededlist)\n"
   ]
  },
  {
   "cell_type": "code",
   "execution_count": 45,
   "metadata": {},
   "outputs": [
    {
     "name": "stdout",
     "output_type": "stream",
     "text": [
      "['cover046.png', 'cover015.png', 'cover025.png', 'cover031.png', 'cover006.png', 'cover011.png']\n"
     ]
    }
   ],
   "source": [
    "import random\n",
    "thelist = list()\n",
    "for i in range(0,half):\n",
    "    imagee = random.choice(neededlist)\n",
    "    thelist.append(imagee)\n",
    "    neededlist.remove(imagee)\n",
    "print(thelist)\n",
    "for i in range(0,len(thelist)):\n",
    "    os.remove(thelist[i])"
   ]
  },
  {
   "cell_type": "code",
   "execution_count": null,
   "metadata": {},
   "outputs": [],
   "source": []
  },
  {
   "cell_type": "code",
   "execution_count": null,
   "metadata": {},
   "outputs": [],
   "source": []
  }
 ],
 "metadata": {
  "kernelspec": {
   "display_name": "Python 3",
   "language": "python",
   "name": "python3"
  },
  "language_info": {
   "codemirror_mode": {
    "name": "ipython",
    "version": 3
   },
   "file_extension": ".py",
   "mimetype": "text/x-python",
   "name": "python",
   "nbconvert_exporter": "python",
   "pygments_lexer": "ipython3",
   "version": "3.7.6"
  }
 },
 "nbformat": 4,
 "nbformat_minor": 5
}
